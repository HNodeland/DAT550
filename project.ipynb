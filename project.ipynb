{
 "cells": [
  {
   "cell_type": "markdown",
   "metadata": {},
   "source": [
    "## DAT550 - Group Project\n",
    "### Bag of Words Document Classification using Feedforward Neural Network and Recurrent Neural Network\n",
    "Authors: Andreas etternavn, Haakon Vollheim Webb, Håkon Nodeland, Stian etternavn\n",
    "\n",
    "\n",
    "\n",
    "The code has the following structure:\n",
    "\n",
    "1. Defining imports\n",
    "2. Reading data\n",
    "3. Cleaning data\n",
    "4. Preprocessing data\n",
    "5. Defining the model\n",
    "6. Analysis"
   ]
  },
  {
   "cell_type": "code",
   "execution_count": null,
   "metadata": {},
   "outputs": [],
   "source": [
    "import numpy as np\n",
    "import pandas as pd\n",
    "import matplotlib.pyplot as plt\n",
    "import seaborn as sns\n",
    "import os\n"
   ]
  },
  {
   "cell_type": "markdown",
   "metadata": {},
   "source": [
    "### 1. - Reading data\n"
   ]
  },
  {
   "cell_type": "code",
   "execution_count": null,
   "metadata": {},
   "outputs": [],
   "source": [
    "data_path = \"data/data.csv\"\n",
    "\n",
    "data = pd.read_csv(data_path)\n",
    "\n",
    "print(data.head())"
   ]
  }
 ],
 "metadata": {
  "kernelspec": {
   "display_name": "Python 3",
   "language": "python",
   "name": "python3"
  },
  "language_info": {
   "codemirror_mode": {
    "name": "ipython",
    "version": 3
   },
   "file_extension": ".py",
   "mimetype": "text/x-python",
   "name": "python",
   "nbconvert_exporter": "python",
   "pygments_lexer": "ipython3",
   "version": "3.11.9"
  }
 },
 "nbformat": 4,
 "nbformat_minor": 2
}
